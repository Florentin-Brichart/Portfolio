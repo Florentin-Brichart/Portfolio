{
 "cells": [
  {
   "cell_type": "markdown",
   "id": "69386121",
   "metadata": {},
   "source": [
    "## Suppression des communes avec moins de 5 parcelles distinctes"
   ]
  },
  {
   "cell_type": "markdown",
   "id": "adf0c232",
   "metadata": {},
   "source": [
    "Je choisit de supprimer les communes avec trop peu de logement mais cela pourrait créer des soucis si on analyse une commune qui n'est pas dans le dataset   \n",
    "**Modifier le code pour remplacer le numéro par une communes factice à la place des les supprimer ?**"
   ]
  },
  {
   "cell_type": "code",
   "execution_count": null,
   "id": "9c50eb18",
   "metadata": {},
   "outputs": [],
   "source": [
    "# print(f\"Nombre de communes initiales : {df_agg['code_commune'].nunique()}\")\n",
    "\n",
    "# # Compter le nombre de parcelles par commune\n",
    "# commune_parcelle_counts = df.groupby(\"code_commune\")[\"id_parcelle\"].nunique()\n",
    "\n",
    "# # Garder les communes avec au moins 10 parcelles\n",
    "# communes_to_keep = commune_parcelle_counts[commune_parcelle_counts >= 10].index\n",
    "\n",
    "# # Choisir un code factice\n",
    "# max_code_commune = int(pd.to_numeric(df_agg[\"code_commune\"], errors=\"coerce\").max()) + 1\n",
    "\n",
    "# # Remplacer les communes à <5 parcelles par le code factice\n",
    "# mask = df_agg[\"code_commune\"].isin(communes_to_keep)\n",
    "# df_agg[\"code_commune\"] = df_agg[\"code_commune\"].where(mask, max_code_commune)\n",
    "\n",
    "# print(f\"Nombre de communes conservées : {df_agg['code_commune'].nunique()}\")"
   ]
  },
  {
   "cell_type": "code",
   "execution_count": null,
   "id": "fde94ce7",
   "metadata": {},
   "outputs": [],
   "source": [
    "print(f\"Nombre de communes initiales : {df_agg['code_commune'].nunique()}\")\n",
    "\n",
    "# Compter le nombre de parcelles par commune\n",
    "commune_parcelle_counts = df.groupby(\"code_commune\")[\"id_parcelle\"].nunique()\n",
    "\n",
    "# Garder les communes avec au moins 10 parcelles\n",
    "communes_to_keep = commune_parcelle_counts[commune_parcelle_counts >= 10].index\n",
    "\n",
    "# Filtrer le DataFrame\n",
    "df_agg = df_agg[df_agg[\"code_commune\"].isin(communes_to_keep)]\n",
    "\n",
    "print(f\"Nombre de communes conservées : {df_agg['code_commune'].nunique()}\")"
   ]
  },
  {
   "cell_type": "markdown",
   "id": "07246193",
   "metadata": {},
   "source": [
    "## Detection des code_commune non convertible en données numériques"
   ]
  },
  {
   "cell_type": "markdown",
   "id": "b792c0ad",
   "metadata": {},
   "source": [
    "Après analyse, les code commune qui ne peuvent pas être converties en int sont celle de Corse."
   ]
  },
  {
   "cell_type": "code",
   "execution_count": null,
   "id": "0ca73ed3",
   "metadata": {},
   "outputs": [],
   "source": [
    "# Essai de conversion, les erreurs deviennent NaN\n",
    "df_to_int = df_agg[[\"code_commune\"]].copy()\n",
    "df_to_int[\"is_convertible\"] = pd.to_numeric(df_to_int[\"code_commune\"], errors=\"coerce\")\n",
    "\n",
    "# Comptage des lignes non convertibles\n",
    "nb_non_convertibles = df_to_int[\"is_convertible\"].isna().sum()\n",
    "# Nombre de \"communes\" distinctes non convertibles\n",
    "nb_communes_non_convertibles = df_to_int.loc[df_to_int[\"is_convertible\"].isna(), \"code_commune\"].nunique()\n",
    "#\n",
    "cara_non_conv = df_to_int.loc[df_to_int[\"is_convertible\"].isna(), \"code_commune\"].str[:2].value_counts()\n",
    "\n",
    "print(\"Nombre de lignes non convertibles en int :\", nb_non_convertibles)\n",
    "print(\"Nombre de communes non convertibles :\", nb_communes_non_convertibles )\n",
    "print(\"Début du code communes des valeurs non convertibles :\\n\", cara_non_conv )"
   ]
  }
 ],
 "metadata": {
  "language_info": {
   "name": "python"
  }
 },
 "nbformat": 4,
 "nbformat_minor": 5
}
