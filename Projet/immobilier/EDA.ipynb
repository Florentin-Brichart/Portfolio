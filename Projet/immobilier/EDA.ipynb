{
 "cells": [
  {
   "cell_type": "markdown",
   "id": "143e7e69",
   "metadata": {},
   "source": [
    "Localisation des dataset :\n",
    "\n",
    "https://www.data.gouv.fr/datasets/demandes-de-valeurs-foncieres-geolocalisees/   \n",
    "https://www.data.gouv.fr/datasets/population-municipale-des-communes-france-entiere/"
   ]
  },
  {
   "cell_type": "code",
   "execution_count": null,
   "id": "b2cbf8d0",
   "metadata": {},
   "outputs": [],
   "source": [
    "import pandas as pd\n",
    "import numpy as np\n",
    "import matplotlib.pyplot as plt\n",
    "import seaborn as sns\n",
    "\n",
    "# Affiche toutes les lignes\n",
    "pd.set_option(\"display.max_rows\", None)\n",
    "\n",
    "# Affiche toutes les colonnes\n",
    "pd.set_option(\"display.max_columns\", None)\n",
    "\n",
    "# Choisis le nombre de caractère par colonnes\n",
    "pd.set_option(\"display.max_colwidth\", 50)"
   ]
  },
  {
   "cell_type": "code",
   "execution_count": null,
   "id": "7da79fc6",
   "metadata": {},
   "outputs": [],
   "source": [
    "df_path = \"full.csv\"\n",
    "\n",
    "df = pd.read_csv(df_path, low_memory=False)\n",
    "\n",
    "df.columns"
   ]
  },
  {
   "cell_type": "code",
   "execution_count": null,
   "id": "ccc2d800",
   "metadata": {},
   "outputs": [],
   "source": [
    "col_to_keep = [\"valeur_fonciere\", \"date_mutation\", \"id_mutation\", \"nature_mutation\", \"numero_disposition\", \"id_parcelle\", \"code_commune\", \"nom_commune\", \"code_postal\", \"type_local\", \"nature_culture\", \"nature_culture_speciale\", \n",
    "               \"nombre_lots\", \"nombre_pieces_principales\", \"surface_reelle_bati\", \"surface_terrain\"]\n",
    "\n",
    "df = df[col_to_keep]"
   ]
  },
  {
   "cell_type": "code",
   "execution_count": null,
   "id": "6d14f86c",
   "metadata": {},
   "outputs": [],
   "source": [
    "# garder uniquement les maisons et les appartements\n",
    "type_local_to_keep = ['Maison', 'Appartement']\n",
    "df = df[(df['type_local'].isin(type_local_to_keep))]"
   ]
  },
  {
   "cell_type": "code",
   "execution_count": null,
   "id": "9f2500cb",
   "metadata": {},
   "outputs": [],
   "source": [
    "# Vue d\"ensemble (shape, dtypes)\n",
    "def quick_overview(df, name):\n",
    "    print(f\"\\n{name.upper()} SHAPE: {df.shape}\")\n",
    "    display(df.head())\n",
    "    print(f\"{name.upper()} Dtypes: \\n{df.dtypes.value_counts()}\")\n",
    "    display(df.dtypes)\n",
    "    display(df.describe(include=\"all\").T)\n",
    "    \n",
    "quick_overview(df, \"Dataset\")"
   ]
  },
  {
   "cell_type": "code",
   "execution_count": null,
   "id": "6f115dea",
   "metadata": {},
   "outputs": [],
   "source": [
    "df.isna().sum()"
   ]
  },
  {
   "cell_type": "markdown",
   "id": "ce3de6dd",
   "metadata": {},
   "source": [
    "**Valeurs manquantes à supprimer :**   \n",
    "On pourrait remplir les valeurs manquantes de \"code_postal\" mais :\n",
    "- Une commune peut avoir plusieurs codes postaux (donc il faut la localiser via ces coordonnées gps ou son adresse postale)\n",
    "- 72 lignes est négligeable pour 1 milions de lignes\n",
    "\n",
    "Pareil pour \"nombre_pieces_principales\" et \"surface_reelle_bati \" (remplacer par une médiane par exemple)\n",
    "\n",
    "**Valeurs manquantes à remplir :**   \n",
    "Dans \"nature_culture \", \"nature_culture_speciale\" et \"surface_terrain\" les NaN correspondent à des valeurs = 0"
   ]
  },
  {
   "cell_type": "code",
   "execution_count": null,
   "id": "12add93c",
   "metadata": {},
   "outputs": [],
   "source": [
    "# Lignes à supprimer\n",
    "nan_to_drop = [\"valeur_fonciere\", \"code_postal\", \"nombre_pieces_principales\", \"surface_reelle_bati\"]\n",
    "\n",
    "df = df.dropna(subset=nan_to_drop)\n",
    "\n",
    "# Lignes à remplir\n",
    "nan_to_fill = [\"nature_culture\", \"nature_culture_speciale\", \"surface_terrain\"]\n",
    "\n",
    "df[nan_to_fill] = df[nan_to_fill].fillna(0)"
   ]
  },
  {
   "cell_type": "code",
   "execution_count": null,
   "id": "69304450",
   "metadata": {},
   "outputs": [],
   "source": [
    "df.isna().sum()"
   ]
  },
  {
   "cell_type": "markdown",
   "id": "3b8271f0",
   "metadata": {},
   "source": [
    "## Regroupement des biens d'une même parcelle"
   ]
  },
  {
   "cell_type": "code",
   "execution_count": null,
   "id": "22ffb85d",
   "metadata": {},
   "outputs": [],
   "source": [
    "group_keys = [\"date_mutation\", \"id_mutation\", \"id_parcelle\"]"
   ]
  },
  {
   "cell_type": "code",
   "execution_count": null,
   "id": "70e43c7e",
   "metadata": {},
   "outputs": [],
   "source": [
    "df_types_parcelle = (\n",
    "    df.groupby(group_keys)[\"type_local\"]\n",
    "      .nunique()\n",
    "      .reset_index(name=\"nb_types\")\n",
    ")\n",
    "\n",
    "df_mix_parcelle = df_types_parcelle[df_types_parcelle[\"nb_types\"] > 1]\n",
    "\n",
    "print(f\"Nombre de parcelles avec plusieurs types de bien : {len(df_mix_parcelle)}\")"
   ]
  },
  {
   "cell_type": "code",
   "execution_count": null,
   "id": "da4f885e",
   "metadata": {},
   "outputs": [],
   "source": [
    "df_code_postale = (\n",
    "    df.groupby(group_keys)[\"code_postal\"]\n",
    "      .nunique()\n",
    "      .reset_index(name=\"nb_types\")\n",
    ")\n",
    "\n",
    "df_mix_code_postale = df_code_postale[df_code_postale[\"nb_types\"] > 1]\n",
    "\n",
    "print(f\"Nombre de parcelle avec plusieurs codes postaux : {len(df_mix_code_postale)}\")\n",
    "print(df_mix_code_postale.head())"
   ]
  },
  {
   "cell_type": "code",
   "execution_count": null,
   "id": "20e39527",
   "metadata": {},
   "outputs": [],
   "source": [
    "df[df[\"id_parcelle\"] == \"97416000CX0211\"]"
   ]
  },
  {
   "cell_type": "markdown",
   "id": "461acc5a",
   "metadata": {},
   "source": [
    "Saint-Pierre est une commune de la réunion avec les codes postaux 97410 et 97432.\n",
    "\n",
    "La mutation avec plusieurs codes postaux diffèrents des autres mutations de la parcelle :\n",
    "- 10 lignes pour cette mutation (1 ligne pour les autres)\n",
    "- La valeur foncière est 10 fois plus élevé\n",
    "- Elle se fait deux jours après une autre mutation\n",
    "\n",
    "On peut supposer :\n",
    "- Il y a eu une erreur dans le remplissage du bien\n",
    "- La parcelle englobe plus qu'un bien qui serait à la limite des deux adresses postaux\n",
    "\n",
    "On a quatres choix :\n",
    "- Prendre 97432 car toutes les autres mutation de cette parcelle sont sous ce code postale\n",
    "- Prendre 97410 car s'est le mode de cette mutation\n",
    "- Séparer la mutation en deux et pondérer la valeur fonciere en fonction de la surface du bien\n",
    "- Supprimer les lignes de cette mutation car modifier ou séparer la mutation pourrait altérer la prédiction"
   ]
  },
  {
   "cell_type": "code",
   "execution_count": null,
   "id": "83cce830",
   "metadata": {},
   "outputs": [],
   "source": [
    "# Suppression des lignes de la mutation\n",
    "df = df[df[\"id_mutation\"] != \"2024-1179133\"]"
   ]
  },
  {
   "cell_type": "code",
   "execution_count": null,
   "id": "24d97ad8",
   "metadata": {},
   "outputs": [],
   "source": [
    "df_code_commune = (\n",
    "    df.groupby(group_keys)[\"code_commune\"]\n",
    "      .nunique()\n",
    "      .reset_index(name=\"nb_types\")\n",
    ")\n",
    "\n",
    "df_mix_code_commune = df_code_commune[df_code_commune[\"nb_types\"] > 1]\n",
    "\n",
    "print(f\"Nombre de parcelle avec plusieurs codes de communes : {len(df_mix_code_commune)}\")"
   ]
  },
  {
   "cell_type": "markdown",
   "id": "1bafa956",
   "metadata": {},
   "source": [
    "**Description des colonnes**\n",
    "- \"date_mutation\" : jour où le bien a été muté de propriétaire\n",
    "- \"id_mutation\" : identification de la mutation\n",
    "- \"id_parcelle\" : identification du cadastre du bien\n",
    "- \"numero_logement\" : nombre de logement regroupe chaque mutations\n",
    "- \"nombre_lots\" : nombre de copropriété attachés à une disposition"
   ]
  },
  {
   "cell_type": "code",
   "execution_count": null,
   "id": "86b526b6",
   "metadata": {},
   "outputs": [],
   "source": [
    "# Crée une liste avec les valeurs str uniques\n",
    "def join_type(x: pd.Series) -> str:\n",
    "    vals = x.astype(str).unique()\n",
    "    return \", \".join(sorted(vals))\n",
    "\n",
    "df_agg = df.groupby(group_keys).agg({\"numero_disposition\": \"count\", \"code_commune\": \"first\", \"surface_reelle_bati\": \"sum\", \n",
    "                                     \"surface_terrain\": \"sum\", \"nombre_pieces_principales\": \"sum\",\n",
    "                                     \"type_local\": join_type, \"valeur_fonciere\": \"first\"\n",
    "                                    }).reset_index()\n",
    "\n",
    "df_agg.rename(columns={\"numero_disposition\": \"nombre_logement\"}, inplace=True)\n",
    "\n",
    "df_agg.head(10)"
   ]
  },
  {
   "cell_type": "markdown",
   "id": "d5faa26b",
   "metadata": {},
   "source": [
    "## Suppression des bien sans pièce principale"
   ]
  },
  {
   "cell_type": "code",
   "execution_count": null,
   "id": "fdda066d",
   "metadata": {},
   "outputs": [],
   "source": [
    "(df_agg[\"nombre_pieces_principales\"] == 0).sum()"
   ]
  },
  {
   "cell_type": "code",
   "execution_count": null,
   "id": "af19cfac",
   "metadata": {},
   "outputs": [],
   "source": [
    "df_agg = df_agg[df_agg[\"nombre_pieces_principales\"] != 0]"
   ]
  },
  {
   "cell_type": "markdown",
   "id": "c7448f99",
   "metadata": {},
   "source": [
    "## Transformation du code commune en données analysable"
   ]
  },
  {
   "cell_type": "markdown",
   "id": "d951deee",
   "metadata": {},
   "source": [
    "Ce dataset regroupe toutes les communes de francais (outre mer inclue) et donne différentes informations utiles :\n",
    "- Le numéro de région **(ancien regroupement à 27 région et non 18)**\n",
    "- Le numéro de département\n",
    "- La population en 2021   \n",
    "\n",
    "\n",
    "**Point à prendre en compte :**\n",
    "- La valeur foncière provient de mutation datant de 2024\n",
    "- La population de chaque communes est une donnée de 2021\n",
    "- Entre 2021 et 2024 la population française a eu une augmentation <=1%   \n",
    "D'après ces données il peut y avoir altération sur la population des communes en 2024 (qu'on va décrire comme négligeable pour notre étude)"
   ]
  },
  {
   "cell_type": "code",
   "execution_count": null,
   "id": "f5809a19",
   "metadata": {},
   "outputs": [],
   "source": [
    "df_path2 = \"POPULATION_MUNICIPALE_COMMUNES_FRANCE.xlsx\"\n",
    "\n",
    "df2 = pd.read_excel(df_path2)"
   ]
  },
  {
   "cell_type": "code",
   "execution_count": null,
   "id": "287af74c",
   "metadata": {},
   "outputs": [],
   "source": [
    "df2.head()"
   ]
  },
  {
   "cell_type": "code",
   "execution_count": null,
   "id": "846b4cce",
   "metadata": {},
   "outputs": [],
   "source": [
    "df_agg = df_agg.merge(\n",
    "    df2[[\"codgeo\", \"reg\", \"dep\", \"p21_pop\"]],\n",
    "    left_on=\"code_commune\",\n",
    "    right_on=\"codgeo\",\n",
    "    how=\"inner\"\n",
    ")\n",
    "\n",
    "df_agg = df_agg.drop(columns=[\"codgeo\", \"code_commune\"])\n",
    "df_agg = df_agg.rename(columns={\"reg\": \"region\", \"dep\": \"departement\", \"p21_pop\": \"population_2021\"})\n",
    "\n",
    "print(df_agg.head())"
   ]
  },
  {
   "cell_type": "markdown",
   "id": "2f7ca6a8",
   "metadata": {},
   "source": [
    "Seuil de taille de ville :\n",
    "- Petits villages : moins de 2 000 habitants\n",
    "- Petites villes : 2 000 – 20 000 habitants\n",
    "- Villes moyennes : 20 000 – 100 000 habitants\n",
    "- Grandes villes : 100 000 – 500 000 habitants\n",
    "- Très grandes villes : plus de 500 000 habitants"
   ]
  },
  {
   "cell_type": "code",
   "execution_count": null,
   "id": "95818df4",
   "metadata": {},
   "outputs": [],
   "source": [
    "def regroup_city(pop):\n",
    "    if pop < 2000:\n",
    "        return 1\n",
    "    elif 2000 <= pop < 20000:\n",
    "        return 2\n",
    "    elif 20000 <= pop < 100000:\n",
    "        return 3\n",
    "    elif 100000 <= pop < 500000:\n",
    "        return 4\n",
    "    else:\n",
    "        return 5\n",
    "    \n",
    "df_agg[\"cat_pop\"] = df_agg[\"population_2021\"].apply(regroup_city)\n",
    "df_agg.drop(columns=[\"population_2021\"])"
   ]
  },
  {
   "cell_type": "markdown",
   "id": "aa4e860a",
   "metadata": {},
   "source": [
    "## Ajout de données"
   ]
  },
  {
   "cell_type": "code",
   "execution_count": null,
   "id": "e707579c",
   "metadata": {},
   "outputs": [],
   "source": [
    "df_agg[\"room_size\"] = df_agg[\"surface_reelle_bati\"] / df_agg[\"nombre_pieces_principales\"]\n",
    "df_agg[\"room_by_housing\"] = df_agg[\"nombre_pieces_principales\"] / df_agg[\"nombre_logement\"]\n",
    "df_agg[\"squaremeter_built_by_housing\"] = df_agg[\"surface_reelle_bati\"] / df_agg[\"nombre_logement\"]\n",
    "df_agg[\"squaremeter_land_by_housing\"] = df_agg[\"surface_terrain\"] / df_agg[\"nombre_logement\"]\n",
    "df_agg[\"valeur_fonciere_by_housing\"] = df_agg[\"valeur_fonciere\"] / df_agg[\"nombre_logement\"]"
   ]
  },
  {
   "cell_type": "code",
   "execution_count": null,
   "id": "2dc5d631",
   "metadata": {},
   "outputs": [],
   "source": [
    "to_del = [\"surface_reelle_bati\", \"surface_terrain\", \"nombre_pieces_principales\", \"nombre_logement\"]\n",
    "df_agg = df_agg.drop(columns=to_del)"
   ]
  },
  {
   "cell_type": "code",
   "execution_count": null,
   "id": "811a8d89",
   "metadata": {},
   "outputs": [],
   "source": [
    "df_agg[\"date_mutation\"]= pd.to_datetime(df_agg[\"date_mutation\"])\n",
    "\n",
    "df_agg[\"annees_mutation\"]= df_agg[\"date_mutation\"].dt.year\n",
    "df_agg[\"mois_mutation\"]= df_agg[\"date_mutation\"].dt.month\n",
    "df_agg[\"jour_mutation\"]= df_agg[\"date_mutation\"].dt.day\n",
    "\n",
    "df_agg.head()"
   ]
  },
  {
   "cell_type": "markdown",
   "id": "ffa2ce95",
   "metadata": {},
   "source": [
    "## Analyse des features"
   ]
  },
  {
   "cell_type": "code",
   "execution_count": null,
   "id": "5c095aa6",
   "metadata": {},
   "outputs": [],
   "source": [
    "cat_data = [\"type_local\", \"departement\"]\n",
    "\n",
    "num_data = df_agg.select_dtypes(include=[\"number\"])\n",
    "print(num_data.columns)"
   ]
  },
  {
   "cell_type": "markdown",
   "id": "5f04b99b",
   "metadata": {},
   "source": [
    "### Données qualitatives"
   ]
  },
  {
   "cell_type": "code",
   "execution_count": null,
   "id": "5c265213",
   "metadata": {},
   "outputs": [],
   "source": [
    "df_agg[\"type_local\"].value_counts().plot(kind=\"bar\")\n",
    "plt.title(f\"Répartition des mutation par type de parcelle\")\n",
    "plt.xlabel(\"Type de parcelle\")\n",
    "plt.ylabel(\"Fréquence\")\n",
    "plt.show()"
   ]
  },
  {
   "cell_type": "code",
   "execution_count": null,
   "id": "eb98b35d",
   "metadata": {},
   "outputs": [],
   "source": [
    "from matplotlib.ticker import MaxNLocator\n",
    "\n",
    "ax = df_agg[\"departement\"].value_counts().sort_index(ascending=True).plot(kind=\"bar\")\n",
    "\n",
    "plt.title(\"Répartition des mutations par département\")\n",
    "plt.xlabel(\"Numéro de département\")\n",
    "plt.ylabel(\"Fréquence\")\n",
    "\n",
    "# Forcer à n'afficher qu'environ 20% des ticks\n",
    "ax.xaxis.set_major_locator(MaxNLocator(nbins=int(len(ax.get_xticks()) * 0.2)))\n",
    "\n",
    "plt.xticks(rotation=45)\n",
    "plt.show()"
   ]
  },
  {
   "cell_type": "markdown",
   "id": "5f9865f1",
   "metadata": {},
   "source": [
    "### Données quantitatives"
   ]
  },
  {
   "cell_type": "code",
   "execution_count": null,
   "id": "232e2835",
   "metadata": {},
   "outputs": [],
   "source": [
    "# for col in num_data.columns:\n",
    "#     plt.figure(figsize=(8,4))\n",
    "#     plt.hist(df_agg[col], bins=100) \n",
    "#     plt.title(f\"Histogramme de {col}\")\n",
    "#     plt.xlabel(col)\n",
    "#     plt.ylabel(\"Fréquence\")\n",
    "#     plt.show()"
   ]
  },
  {
   "cell_type": "code",
   "execution_count": null,
   "id": "d2717a57",
   "metadata": {},
   "outputs": [],
   "source": [
    "import math\n",
    "\n",
    "cols = num_data.columns\n",
    "n = len(cols)\n",
    "\n",
    "rows = math.ceil(n / 3)\n",
    "\n",
    "fig, axes = plt.subplots(rows, 3, figsize=(18, 5*rows))\n",
    "axes = axes.flatten()\n",
    "\n",
    "for i, col in enumerate(cols):\n",
    "    axes[i].hist(df_agg[col], bins=100)\n",
    "    axes[i].set_title(f\"Histogramme de {col}\")\n",
    "    axes[i].set_xlabel(col)\n",
    "    axes[i].set_ylabel(\"Fréquence\")\n",
    "\n",
    "# cacher les axes vides s'il y en a\n",
    "for j in range(i+1, len(axes)):\n",
    "    fig.delaxes(axes[j])\n",
    "\n",
    "plt.tight_layout()\n",
    "plt.show()"
   ]
  },
  {
   "cell_type": "markdown",
   "id": "185c1f40",
   "metadata": {},
   "source": [
    "## Valeurs abérantes"
   ]
  },
  {
   "cell_type": "markdown",
   "id": "adfd068a",
   "metadata": {},
   "source": [
    "D'après la loi française, un logement doit avoir au moins 9 m² habitables.       \n",
    "De plus on peut supposer :\n",
    "- Une valeur foncière d'une maison/appartement infèrieur à 1.000 est une erreur d'enregistrement.\n",
    "- Un bien avec une surface > 1000m² ou une valeur foncière 2.000.000€ est un bien de luxe qu'on va considère comme valeur abérante"
   ]
  },
  {
   "cell_type": "code",
   "execution_count": null,
   "id": "eaca178c",
   "metadata": {},
   "outputs": [],
   "source": [
    "((df_agg[\"squaremeter_built_by_housing\"] < 9) | (df_agg[\"squaremeter_built_by_housing\"] > 1000)).sum()"
   ]
  },
  {
   "cell_type": "code",
   "execution_count": null,
   "id": "3e46a4f5",
   "metadata": {},
   "outputs": [],
   "source": [
    "((df_agg[\"valeur_fonciere_by_housing\"] < 1000) | (df_agg[\"valeur_fonciere_by_housing\"] > 2_000_000)).sum()"
   ]
  },
  {
   "cell_type": "code",
   "execution_count": null,
   "id": "c52865a6",
   "metadata": {},
   "outputs": [],
   "source": [
    "df_agg = df_agg[(df_agg[\"squaremeter_built_by_housing\"] >= 9) & (df_agg[\"squaremeter_built_by_housing\"] <= 1000)]\n",
    "df_agg = df_agg[(df_agg[\"valeur_fonciere_by_housing\"] >= 1000) & (df_agg[\"valeur_fonciere_by_housing\"] <= 2_000_000)]"
   ]
  },
  {
   "cell_type": "code",
   "execution_count": null,
   "id": "43d6ee8e",
   "metadata": {},
   "outputs": [],
   "source": [
    "# Fonction pour enlever les outliers via l’IQR (Tukey's fences)\n",
    "def remove_outliers_iqr(df, column):\n",
    "    Q1 = df[column].quantile(0.25)\n",
    "    Q3 = df[column].quantile(0.75)\n",
    "    IQR = Q3 - Q1\n",
    "    lower_bound = Q1 - 1.5 * IQR\n",
    "    upper_bound = Q3 + 1.5 * IQR\n",
    "    return df[(df[column] >= lower_bound) & (df[column] <= upper_bound)]\n",
    "\n",
    "\n",
    "colonnes = [\"room_size\", \"room_by_housing\", \"squaremeter_land_by_housing\"]\n",
    "for col in colonnes:\n",
    "    df_agg = remove_outliers_iqr(df_agg, col)"
   ]
  },
  {
   "cell_type": "code",
   "execution_count": null,
   "id": "e06f76e5",
   "metadata": {},
   "outputs": [],
   "source": [
    "cols = num_data.columns\n",
    "n = len(cols)\n",
    "\n",
    "rows = math.ceil(n / 3)\n",
    "\n",
    "fig, axes = plt.subplots(rows, 3, figsize=(18, 5*rows))\n",
    "axes = axes.flatten()\n",
    "\n",
    "for i, col in enumerate(cols):\n",
    "    axes[i].hist(df_agg[col], bins=100)\n",
    "    axes[i].set_title(f\"Histogramme de {col}\")\n",
    "    axes[i].set_xlabel(col)\n",
    "    axes[i].set_ylabel(\"Fréquence\")\n",
    "\n",
    "# cacher les axes vides s'il y en a\n",
    "for j in range(i+1, len(axes)):\n",
    "    fig.delaxes(axes[j])\n",
    "\n",
    "plt.tight_layout()\n",
    "plt.show()"
   ]
  },
  {
   "cell_type": "markdown",
   "id": "a430094a",
   "metadata": {},
   "source": [
    "## Encoding"
   ]
  },
  {
   "cell_type": "code",
   "execution_count": null,
   "id": "89139463",
   "metadata": {},
   "outputs": [],
   "source": [
    "from sklearn.preprocessing import OneHotEncoder\n",
    "\n",
    "to_encode = [\"region\", \"type_local\", \"departement\"]\n",
    "\n",
    "encoder = OneHotEncoder(sparse_output=False)\n",
    "encoded = encoder.fit_transform(df_agg[to_encode])\n",
    "\n",
    "encoded_df = pd.DataFrame(\n",
    "    encoded,\n",
    "    columns=encoder.get_feature_names_out(to_encode),\n",
    "    index=df_agg.index\n",
    ")\n",
    "\n",
    "df_encoded = pd.concat([df_agg.drop(columns=to_encode), encoded_df], axis=1)\n",
    "\n",
    "df_encoded.head(10)"
   ]
  },
  {
   "cell_type": "code",
   "execution_count": null,
   "id": "fbb798da",
   "metadata": {},
   "outputs": [],
   "source": [
    "# Suppression col ibutile ou qui peut \"spoil\" le target\n",
    "col_to_drop = [\"date_mutation\", \"id_mutation\", \"id_parcelle\", \"population_2021\", \"annees_mutation\", \"valeur_fonciere_by_housing\"]\n",
    "df_encoded = df_encoded.drop(columns=col_to_drop)"
   ]
  },
  {
   "cell_type": "markdown",
   "id": "085e7dd2",
   "metadata": {},
   "source": [
    "## Premier modele"
   ]
  },
  {
   "cell_type": "code",
   "execution_count": null,
   "id": "c5d84ba2",
   "metadata": {},
   "outputs": [],
   "source": [
    "X = df_encoded.drop(columns=[\"valeur_fonciere\"]).copy()\n",
    "y = df_encoded[\"valeur_fonciere\"].copy()\n",
    "\n",
    "from sklearn.model_selection import train_test_split\n",
    "X_train, X_test, y_train, y_test = train_test_split(X, y, test_size=0.2, random_state=0)\n",
    "\n",
    "from sklearn.linear_model import LinearRegression\n",
    "lr = LinearRegression()\n",
    "lr.fit(X_train, y_train)\n",
    "lr.score(X_test, y_test)"
   ]
  }
 ],
 "metadata": {
  "kernelspec": {
   "display_name": "Python 3",
   "language": "python",
   "name": "python3"
  },
  "language_info": {
   "codemirror_mode": {
    "name": "ipython",
    "version": 3
   },
   "file_extension": ".py",
   "mimetype": "text/x-python",
   "name": "python",
   "nbconvert_exporter": "python",
   "pygments_lexer": "ipython3",
   "version": "3.13.1"
  }
 },
 "nbformat": 4,
 "nbformat_minor": 5
}
